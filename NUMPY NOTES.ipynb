{
 "cells": [
  {
   "cell_type": "code",
   "execution_count": 1,
   "id": "037acc5a",
   "metadata": {},
   "outputs": [],
   "source": [
    "import numpy as np"
   ]
  },
  {
   "cell_type": "code",
   "execution_count": 2,
   "id": "a1c0b516",
   "metadata": {},
   "outputs": [
    {
     "data": {
      "text/plain": [
       "256"
      ]
     },
     "execution_count": 2,
     "metadata": {},
     "output_type": "execute_result"
    }
   ],
   "source": [
    "np.square(16)"
   ]
  },
  {
   "cell_type": "code",
   "execution_count": 3,
   "id": "ac341391",
   "metadata": {},
   "outputs": [
    {
     "data": {
      "text/plain": [
       "array([5, 7, 8, 9])"
      ]
     },
     "execution_count": 3,
     "metadata": {},
     "output_type": "execute_result"
    }
   ],
   "source": [
    "xyz=np.array([5,7,8,9])\n",
    "\n",
    "xyz"
   ]
  },
  {
   "cell_type": "code",
   "execution_count": 4,
   "id": "4526268e",
   "metadata": {},
   "outputs": [
    {
     "data": {
      "text/plain": [
       "4"
      ]
     },
     "execution_count": 4,
     "metadata": {},
     "output_type": "execute_result"
    }
   ],
   "source": [
    "#to know abot total no of elements in array \"size\"\n",
    "xyz.size"
   ]
  },
  {
   "cell_type": "code",
   "execution_count": 5,
   "id": "38788720",
   "metadata": {},
   "outputs": [
    {
     "data": {
      "text/plain": [
       "(4,)"
      ]
     },
     "execution_count": 5,
     "metadata": {},
     "output_type": "execute_result"
    }
   ],
   "source": [
    "xyz.shape"
   ]
  },
  {
   "cell_type": "code",
   "execution_count": 6,
   "id": "6fc63cc1",
   "metadata": {},
   "outputs": [
    {
     "data": {
      "text/plain": [
       "array([1. , 1.4, 1.8, 2.2, 2.6, 3. , 3.4, 3.8, 4.2, 4.6, 5. , 5.4, 5.8,\n",
       "       6.2, 6.6, 7. , 7.4, 7.8, 8.2, 8.6, 9. , 9.4, 9.8])"
      ]
     },
     "execution_count": 6,
     "metadata": {},
     "output_type": "execute_result"
    }
   ],
   "source": [
    "#range functinon\n",
    "a=np.arange(1,10,0.4)\n",
    "a\n"
   ]
  },
  {
   "cell_type": "code",
   "execution_count": 7,
   "id": "bd622707",
   "metadata": {},
   "outputs": [
    {
     "data": {
      "text/plain": [
       "array([9.8, 9.4, 9. , 8.6, 8.2, 7.8, 7.4, 7. , 6.6, 6.2, 5.8, 5.4, 5. ,\n",
       "       4.6, 4.2, 3.8, 3.4, 3. , 2.6, 2.2, 1.8, 1.4, 1. ])"
      ]
     },
     "execution_count": 7,
     "metadata": {},
     "output_type": "execute_result"
    }
   ],
   "source": [
    "#reversing the created array\n",
    "a[ : : -1]"
   ]
  },
  {
   "cell_type": "code",
   "execution_count": 8,
   "id": "7179dbc5",
   "metadata": {},
   "outputs": [
    {
     "data": {
      "text/plain": [
       "array([9.8, 9. , 8.2, 7.4, 6.6, 5.8, 5. , 4.2, 3.4, 2.6, 1.8, 1. ])"
      ]
     },
     "execution_count": 8,
     "metadata": {},
     "output_type": "execute_result"
    }
   ],
   "source": [
    "a[ : : -2]"
   ]
  },
  {
   "cell_type": "code",
   "execution_count": 9,
   "id": "e912fdfc",
   "metadata": {},
   "outputs": [
    {
     "data": {
      "text/plain": [
       "array([20., 30., 40., 50.])"
      ]
     },
     "execution_count": 9,
     "metadata": {},
     "output_type": "execute_result"
    }
   ],
   "source": [
    "np.linspace(20,50,4)\n"
   ]
  },
  {
   "cell_type": "code",
   "execution_count": 10,
   "id": "102b942f",
   "metadata": {},
   "outputs": [
    {
     "data": {
      "text/plain": [
       "array([20.        , 21.57894737, 23.15789474, 24.73684211, 26.31578947,\n",
       "       27.89473684, 29.47368421, 31.05263158, 32.63157895, 34.21052632,\n",
       "       35.78947368, 37.36842105, 38.94736842, 40.52631579, 42.10526316,\n",
       "       43.68421053, 45.26315789, 46.84210526, 48.42105263, 50.        ])"
      ]
     },
     "execution_count": 10,
     "metadata": {},
     "output_type": "execute_result"
    }
   ],
   "source": [
    "np.linspace(20,50,20)\n"
   ]
  },
  {
   "cell_type": "code",
   "execution_count": 11,
   "id": "db7f26ab",
   "metadata": {},
   "outputs": [
    {
     "data": {
      "text/plain": [
       "array([[0.],\n",
       "       [0.]])"
      ]
     },
     "execution_count": 11,
     "metadata": {},
     "output_type": "execute_result"
    }
   ],
   "source": [
    "np.zeros((2,1))"
   ]
  },
  {
   "cell_type": "code",
   "execution_count": 12,
   "id": "f877e511",
   "metadata": {},
   "outputs": [
    {
     "data": {
      "text/plain": [
       "array([[1., 1.],\n",
       "       [1., 1.]])"
      ]
     },
     "execution_count": 12,
     "metadata": {},
     "output_type": "execute_result"
    }
   ],
   "source": [
    "np.ones((2,2))"
   ]
  },
  {
   "cell_type": "code",
   "execution_count": 13,
   "id": "776998d4",
   "metadata": {},
   "outputs": [
    {
     "data": {
      "text/plain": [
       "array([[ 0,  1,  2,  3,  4],\n",
       "       [ 5,  6,  7,  8,  9],\n",
       "       [10, 11, 12, 13, 14],\n",
       "       [15, 16, 17, 18, 19]])"
      ]
     },
     "execution_count": 13,
     "metadata": {},
     "output_type": "execute_result"
    }
   ],
   "source": [
    "x=np.arange(20).reshape(4,5)\n",
    "x"
   ]
  },
  {
   "cell_type": "markdown",
   "id": "a3c7c0e9",
   "metadata": {},
   "source": [
    "# Random no generation"
   ]
  },
  {
   "cell_type": "code",
   "execution_count": 14,
   "id": "4fdf00b4",
   "metadata": {},
   "outputs": [
    {
     "data": {
      "text/plain": [
       "array([[21, 57,  8,  1],\n",
       "       [58, 80, 18, 47],\n",
       "       [61,  5, 78, 53],\n",
       "       [51,  3, 73, 43],\n",
       "       [95, 13, 40, 54]])"
      ]
     },
     "execution_count": 14,
     "metadata": {},
     "output_type": "execute_result"
    }
   ],
   "source": [
    "#np.random.randint(1,100,(5,4))\n",
    "#                (start,end,(row,col))#shape \n",
    "np.random.randint(1,100,(5,4))"
   ]
  },
  {
   "cell_type": "code",
   "execution_count": 15,
   "id": "f302d5f0",
   "metadata": {},
   "outputs": [
    {
     "data": {
      "text/plain": [
       "array([[0.57863592, 0.7403492 , 0.37477493, 0.54986386, 0.31213967],\n",
       "       [0.84474037, 0.65384681, 0.01957941, 0.52693708, 0.51953823],\n",
       "       [0.87028638, 0.21020562, 0.0927456 , 0.61009384, 0.49934674],\n",
       "       [0.14918209, 0.15263338, 0.60033127, 0.51858317, 0.09244215],\n",
       "       [0.20528166, 0.75487315, 0.56576608, 0.43664341, 0.88481791],\n",
       "       [0.60548518, 0.07782746, 0.23784173, 0.12693405, 0.9524913 ],\n",
       "       [0.11216682, 0.99006367, 0.23102272, 0.58303495, 0.64082646],\n",
       "       [0.9127931 , 0.74534054, 0.22297296, 0.5019886 , 0.53081758],\n",
       "       [0.75571714, 0.08126349, 0.75470185, 0.66817874, 0.32670928],\n",
       "       [0.59444401, 0.08940222, 0.61774137, 0.40548093, 0.4494208 ]])"
      ]
     },
     "execution_count": 15,
     "metadata": {},
     "output_type": "execute_result"
    }
   ],
   "source": [
    "#np.random.rand(10,5)\n",
    "#                (row,col)\n",
    "np.random.rand(10,5)"
   ]
  },
  {
   "cell_type": "code",
   "execution_count": 16,
   "id": "3c5ed6d7",
   "metadata": {},
   "outputs": [
    {
     "data": {
      "text/plain": [
       "array([0.19510719, 0.56148794, 0.05906117, 0.95571959, 0.97718968])"
      ]
     },
     "execution_count": 16,
     "metadata": {},
     "output_type": "execute_result"
    }
   ],
   "source": [
    "np.random.rand(5)"
   ]
  },
  {
   "cell_type": "markdown",
   "id": "dc4470e0",
   "metadata": {},
   "source": [
    "# to set max and min values inside the random nos generated"
   ]
  },
  {
   "cell_type": "code",
   "execution_count": 17,
   "id": "96c3ccc5",
   "metadata": {},
   "outputs": [
    {
     "ename": "NameError",
     "evalue": "name 'ri' is not defined",
     "output_type": "error",
     "traceback": [
      "\u001b[1;31m---------------------------------------------------------------------------\u001b[0m",
      "\u001b[1;31mNameError\u001b[0m                                 Traceback (most recent call last)",
      "Input \u001b[1;32mIn [17]\u001b[0m, in \u001b[0;36m<cell line: 1>\u001b[1;34m()\u001b[0m\n\u001b[1;32m----> 1\u001b[0m mat\u001b[38;5;241m=\u001b[39mnp\u001b[38;5;241m.\u001b[39marray(\u001b[43mri\u001b[49m(\u001b[38;5;241m10\u001b[39m,\u001b[38;5;241m100\u001b[39m,\u001b[38;5;241m15\u001b[39m)\u001b[38;5;241m.\u001b[39mreshape(\u001b[38;5;241m3\u001b[39m,\u001b[38;5;241m5\u001b[39m))\n\u001b[0;32m      2\u001b[0m mat\n",
      "\u001b[1;31mNameError\u001b[0m: name 'ri' is not defined"
     ]
    }
   ],
   "source": [
    "mat=np.array(ri(10,100,15).reshape(3,5))\n",
    "mat"
   ]
  },
  {
   "cell_type": "code",
   "execution_count": 18,
   "id": "ff4d3f56",
   "metadata": {},
   "outputs": [
    {
     "ename": "NameError",
     "evalue": "name 'mat' is not defined",
     "output_type": "error",
     "traceback": [
      "\u001b[1;31m---------------------------------------------------------------------------\u001b[0m",
      "\u001b[1;31mNameError\u001b[0m                                 Traceback (most recent call last)",
      "Input \u001b[1;32mIn [18]\u001b[0m, in \u001b[0;36m<cell line: 1>\u001b[1;34m()\u001b[0m\n\u001b[1;32m----> 1\u001b[0m \u001b[43mmat\u001b[49m\u001b[38;5;241m>\u001b[39m\u001b[38;5;241m50\u001b[39m\n",
      "\u001b[1;31mNameError\u001b[0m: name 'mat' is not defined"
     ]
    }
   ],
   "source": [
    "mat>50"
   ]
  },
  {
   "cell_type": "code",
   "execution_count": null,
   "id": "f2c0839b",
   "metadata": {},
   "outputs": [],
   "source": [
    "print(mat[mat>50])"
   ]
  },
  {
   "cell_type": "code",
   "execution_count": null,
   "id": "3f76018f",
   "metadata": {},
   "outputs": [],
   "source": [
    "print(np.where(mat==65))"
   ]
  },
  {
   "cell_type": "code",
   "execution_count": null,
   "id": "4b57684f",
   "metadata": {},
   "outputs": [],
   "source": [
    "x=np.random.randint(8,70,(10))\n",
    "x"
   ]
  },
  {
   "cell_type": "code",
   "execution_count": null,
   "id": "d310ec2e",
   "metadata": {},
   "outputs": [],
   "source": [
    "y=np.random.randint(8,70,10)\n",
    "np.clip(x,a_min=20,a_max=50)"
   ]
  },
  {
   "cell_type": "markdown",
   "id": "508b7679",
   "metadata": {},
   "source": [
    "# where fn-used to get the index of the condt matched\n"
   ]
  },
  {
   "cell_type": "code",
   "execution_count": 19,
   "id": "bbc74d76",
   "metadata": {},
   "outputs": [
    {
     "data": {
      "text/plain": [
       "array('retired', dtype='<U13')"
      ]
     },
     "execution_count": 19,
     "metadata": {},
     "output_type": "execute_result"
    }
   ],
   "source": [
    "age=70\n",
    "np.where(age>68,'retired','still_walking')"
   ]
  },
  {
   "cell_type": "code",
   "execution_count": 20,
   "id": "a83d5976",
   "metadata": {},
   "outputs": [
    {
     "data": {
      "text/plain": [
       "array([21, 45, 41, 64, 28, 67, 65, 63, 45, 27])"
      ]
     },
     "execution_count": 20,
     "metadata": {},
     "output_type": "execute_result"
    }
   ],
   "source": [
    "y=np.random.randint(8,70,10)\n",
    "y"
   ]
  },
  {
   "cell_type": "code",
   "execution_count": 21,
   "id": "7f784ee1",
   "metadata": {},
   "outputs": [
    {
     "data": {
      "text/plain": [
       "(array([0, 4, 9], dtype=int64),)"
      ]
     },
     "execution_count": 21,
     "metadata": {},
     "output_type": "execute_result"
    }
   ],
   "source": [
    "np.where(y<35)"
   ]
  },
  {
   "cell_type": "code",
   "execution_count": 22,
   "id": "e31aa087",
   "metadata": {},
   "outputs": [],
   "source": [
    "from  numpy.random import randint as ri\n"
   ]
  },
  {
   "cell_type": "code",
   "execution_count": 23,
   "id": "1258a345",
   "metadata": {},
   "outputs": [
    {
     "data": {
      "text/plain": [
       "array([ 68,  59, 187, 114, 133,  67,   3,  91, 151, 171, 137, 183, 116,\n",
       "       187, 170,  55, 179, 183,  78,   6, 180, 119, 180,  19, 158, 152,\n",
       "        45, 189,   6,  76])"
      ]
     },
     "execution_count": 23,
     "metadata": {},
     "output_type": "execute_result"
    }
   ],
   "source": [
    "a=ri(1,199,30)\n",
    "a"
   ]
  },
  {
   "cell_type": "code",
   "execution_count": 24,
   "id": "4fb534c9",
   "metadata": {},
   "outputs": [
    {
     "data": {
      "text/plain": [
       "array([[ 68,  59, 187],\n",
       "       [114, 133,  67],\n",
       "       [  3,  91, 151],\n",
       "       [171, 137, 183],\n",
       "       [116, 187, 170],\n",
       "       [ 55, 179, 183],\n",
       "       [ 78,   6, 180],\n",
       "       [119, 180,  19],\n",
       "       [158, 152,  45],\n",
       "       [189,   6,  76]])"
      ]
     },
     "execution_count": 24,
     "metadata": {},
     "output_type": "execute_result"
    }
   ],
   "source": [
    "b=a.reshape(10,3)\n",
    "b"
   ]
  },
  {
   "cell_type": "code",
   "execution_count": 25,
   "id": "40c42b8c",
   "metadata": {},
   "outputs": [
    {
     "name": "stdout",
     "output_type": "stream",
     "text": [
      "3\n"
     ]
    }
   ],
   "source": [
    "print(b.min())"
   ]
  },
  {
   "cell_type": "code",
   "execution_count": 26,
   "id": "b46ff42c",
   "metadata": {},
   "outputs": [
    {
     "name": "stdout",
     "output_type": "stream",
     "text": [
      "189\n"
     ]
    }
   ],
   "source": [
    "print(b.max())"
   ]
  },
  {
   "cell_type": "code",
   "execution_count": 27,
   "id": "45f54dcc",
   "metadata": {},
   "outputs": [
    {
     "name": "stdout",
     "output_type": "stream",
     "text": [
      "3462\n"
     ]
    }
   ],
   "source": [
    "print(b.sum())"
   ]
  },
  {
   "cell_type": "code",
   "execution_count": 28,
   "id": "faea8844",
   "metadata": {},
   "outputs": [
    {
     "name": "stdout",
     "output_type": "stream",
     "text": [
      "115.4\n"
     ]
    }
   ],
   "source": [
    "print(b.mean())"
   ]
  },
  {
   "cell_type": "code",
   "execution_count": 44,
   "id": "83eee743",
   "metadata": {},
   "outputs": [
    {
     "data": {
      "text/plain": [
       "array([ 0,  2,  4,  6,  8, 10, 12, 14, 16, 18, 20])"
      ]
     },
     "execution_count": 44,
     "metadata": {},
     "output_type": "execute_result"
    }
   ],
   "source": [
    "arr=np.arange(0,21,2)\n",
    "            #(start,end,skip_size)\n",
    "arr"
   ]
  },
  {
   "cell_type": "code",
   "execution_count": 45,
   "id": "0ed25a34",
   "metadata": {},
   "outputs": [
    {
     "name": "stdout",
     "output_type": "stream",
     "text": [
      "[20 18 16 14 12 10  8  6  4  2  0]\n"
     ]
    }
   ],
   "source": [
    "print(arr[::-1])"
   ]
  },
  {
   "cell_type": "code",
   "execution_count": 31,
   "id": "4fac23f5",
   "metadata": {},
   "outputs": [
    {
     "name": "stdout",
     "output_type": "stream",
     "text": [
      "[0 2 4]\n"
     ]
    }
   ],
   "source": [
    "#to know the index positions of the values\n",
    "print(arr[[0,1,2]])"
   ]
  },
  {
   "cell_type": "code",
   "execution_count": 32,
   "id": "eb35d21c",
   "metadata": {},
   "outputs": [
    {
     "data": {
      "text/plain": [
       "[[1, 2, 3], [4, 5, 6], [7, 8, 9]]"
      ]
     },
     "execution_count": 32,
     "metadata": {},
     "output_type": "execute_result"
    }
   ],
   "source": [
    "mat1=[[1,2,3],[4,5,6],[7,8,9]]\n",
    "mat1"
   ]
  },
  {
   "cell_type": "code",
   "execution_count": 49,
   "id": "58f342fb",
   "metadata": {},
   "outputs": [
    {
     "data": {
      "text/plain": [
       "array([[1, 2, 3],\n",
       "       [4, 5, 6],\n",
       "       [7, 8, 9]])"
      ]
     },
     "execution_count": 49,
     "metadata": {},
     "output_type": "execute_result"
    }
   ],
   "source": [
    "mat2=np.array(mat1)\n",
    "mat2"
   ]
  },
  {
   "cell_type": "code",
   "execution_count": 34,
   "id": "59c7204b",
   "metadata": {},
   "outputs": [
    {
     "name": "stdout",
     "output_type": "stream",
     "text": [
      "[[2]\n",
      " [5]]\n"
     ]
    }
   ],
   "source": [
    "print(mat2[0:2,1:2])"
   ]
  },
  {
   "cell_type": "code",
   "execution_count": 35,
   "id": "03cf8b3e",
   "metadata": {},
   "outputs": [
    {
     "name": "stdout",
     "output_type": "stream",
     "text": [
      "[[1 3]\n",
      " [4 6]]\n"
     ]
    }
   ],
   "source": [
    "#mat[rows,[col indexes]]\n",
    "print(mat2[0:2,[0,2]])\n"
   ]
  },
  {
   "cell_type": "code",
   "execution_count": 51,
   "id": "3473564f",
   "metadata": {},
   "outputs": [
    {
     "name": "stdout",
     "output_type": "stream",
     "text": [
      "[[3]\n",
      " [6]]\n"
     ]
    }
   ],
   "source": [
    "print(mat2[0:2,[2]])"
   ]
  },
  {
   "cell_type": "code",
   "execution_count": 50,
   "id": "9c098d58",
   "metadata": {},
   "outputs": [
    {
     "name": "stdout",
     "output_type": "stream",
     "text": [
      "[3 6]\n"
     ]
    }
   ],
   "source": [
    "print(mat2[0:2,2])"
   ]
  },
  {
   "cell_type": "code",
   "execution_count": 37,
   "id": "f0ff3bbd",
   "metadata": {},
   "outputs": [
    {
     "name": "stdout",
     "output_type": "stream",
     "text": [
      "[[1]\n",
      " [4]]\n"
     ]
    }
   ],
   "source": [
    "print(mat2[0:2,[0]])"
   ]
  },
  {
   "cell_type": "code",
   "execution_count": 38,
   "id": "5f06c12c",
   "metadata": {
    "scrolled": true
   },
   "outputs": [
    {
     "data": {
      "text/plain": [
       "array([[ 1,  2, 34],\n",
       "       [ 4,  5,  6],\n",
       "       [ 7,  8,  9]])"
      ]
     },
     "execution_count": 38,
     "metadata": {},
     "output_type": "execute_result"
    }
   ],
   "source": [
    "#updating the value of matrix\n",
    "mat2[0,2]=34\n",
    "mat2"
   ]
  },
  {
   "cell_type": "code",
   "execution_count": 39,
   "id": "32473ea1",
   "metadata": {},
   "outputs": [
    {
     "data": {
      "text/plain": [
       "array([1, 0, 2])"
      ]
     },
     "execution_count": 39,
     "metadata": {},
     "output_type": "execute_result"
    }
   ],
   "source": [
    "add_rows=np.array([1,0,2])\n",
    "add_rows"
   ]
  },
  {
   "cell_type": "code",
   "execution_count": 40,
   "id": "14bd5826",
   "metadata": {},
   "outputs": [
    {
     "data": {
      "text/plain": [
       "array([1, 0, 2])"
      ]
     },
     "execution_count": 40,
     "metadata": {},
     "output_type": "execute_result"
    }
   ],
   "source": [
    "#transposing a matrix\n",
    "transp=add_rows.T\n",
    "transp\n"
   ]
  },
  {
   "cell_type": "code",
   "execution_count": 41,
   "id": "502345e6",
   "metadata": {},
   "outputs": [
    {
     "name": "stdout",
     "output_type": "stream",
     "text": [
      "78\n"
     ]
    }
   ],
   "source": [
    "z=[25,30,45,76,78,67]\n",
    "print(max(z))"
   ]
  },
  {
   "cell_type": "code",
   "execution_count": 42,
   "id": "498a06b8",
   "metadata": {},
   "outputs": [
    {
     "data": {
      "text/plain": [
       "25"
      ]
     },
     "execution_count": 42,
     "metadata": {},
     "output_type": "execute_result"
    }
   ],
   "source": [
    "np.amin([25,30,45,76,78,67])"
   ]
  },
  {
   "cell_type": "code",
   "execution_count": 43,
   "id": "4992c2f4",
   "metadata": {},
   "outputs": [
    {
     "data": {
      "text/plain": [
       "78"
      ]
     },
     "execution_count": 43,
     "metadata": {},
     "output_type": "execute_result"
    }
   ],
   "source": [
    "np.amax([25,30,45,76,78,67])"
   ]
  }
 ],
 "metadata": {
  "kernelspec": {
   "display_name": "Python 3 (ipykernel)",
   "language": "python",
   "name": "python3"
  },
  "language_info": {
   "codemirror_mode": {
    "name": "ipython",
    "version": 3
   },
   "file_extension": ".py",
   "mimetype": "text/x-python",
   "name": "python",
   "nbconvert_exporter": "python",
   "pygments_lexer": "ipython3",
   "version": "3.9.12"
  }
 },
 "nbformat": 4,
 "nbformat_minor": 5
}
