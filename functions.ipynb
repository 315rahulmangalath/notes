{
 "cells": [
  {
   "cell_type": "code",
   "execution_count": 5,
   "id": "fcc4dffd",
   "metadata": {},
   "outputs": [
    {
     "name": "stdout",
     "output_type": "stream",
     "text": [
      "2\n",
      "4\n"
     ]
    }
   ],
   "source": [
    "#ask : Write a function absolute_value to find absolute of a given number.\n",
    "def absolute_value(num):\n",
    "    \"\"\"This function returns the absolute\n",
    "    value of the entered number\"\"\"\n",
    "    if num >= 0:\n",
    "        return num\n",
    "    else:\n",
    "        return (-num)\n",
    "print(absolute_value(2))\n",
    "print(absolute_value(-4))\n"
   ]
  },
  {
   "cell_type": "code",
   "execution_count": 14,
   "id": "4c97e510",
   "metadata": {},
   "outputs": [
    {
     "name": "stdout",
     "output_type": "stream",
     "text": [
      "21\n"
     ]
    }
   ],
   "source": [
    "#to def fn to get mult of 2 arg\n",
    "def mult(num1,num2):\n",
    "    return(num1*num2)\n",
    "print(mult(3,7))"
   ]
  },
  {
   "cell_type": "code",
   "execution_count": 27,
   "id": "0751f002",
   "metadata": {},
   "outputs": [
    {
     "name": "stdout",
     "output_type": "stream",
     "text": [
      "Value inside function: 10\n",
      "Value outside function: 30\n"
     ]
    }
   ],
   "source": [
    "def my_func():\n",
    "    x = 10\n",
    "    print(\"Value inside function:\",x)\n",
    "    x = 20\n",
    "my_func()\n",
    "\n",
    "print(\"Value outside function:\",x)\n"
   ]
  },
  {
   "cell_type": "code",
   "execution_count": null,
   "id": "ab37327b",
   "metadata": {},
   "outputs": [],
   "source": [
    "#lambda syntax\n",
    "#(lambda arguments : arhuments,condt)"
   ]
  },
  {
   "cell_type": "code",
   "execution_count": 30,
   "id": "3392ce78",
   "metadata": {},
   "outputs": [
    {
     "name": "stdout",
     "output_type": "stream",
     "text": [
      "[100, 4, 64, 49, 25, 16, 9, 121, 0, 1]\n"
     ]
    }
   ],
   "source": [
    "#Task : Write the   code to find square of x.\n",
    "\n",
    "sequences = [10,2,8,7,5,4,3,11,0, 1]\n",
    "filtered_result = map (lambda x: x*x, sequences)\n",
    "print(list(filtered_result))"
   ]
  },
  {
   "cell_type": "code",
   "execution_count": 24,
   "id": "74eeab92",
   "metadata": {},
   "outputs": [
    {
     "name": "stdout",
     "output_type": "stream",
     "text": [
      "[10000000000, 4, 16777216, 823543, 3125, 256, 27, 285311670611, 1, 1]\n"
     ]
    }
   ],
   "source": [
    "#: Write the   code to find cube  of elements.\n",
    "filtered_result = map (lambda x: x**x, sequences)\n",
    "print(list(filtered_result))"
   ]
  },
  {
   "cell_type": "code",
   "execution_count": 26,
   "id": "353f5a45",
   "metadata": {},
   "outputs": [
    {
     "name": "stdout",
     "output_type": "stream",
     "text": [
      "[10, 8, 7, 5, 11]\n"
     ]
    }
   ],
   "source": [
    "#Task : write the above code for the expression x>4\n",
    "sequences = [10,2,8,7,5,4,3,11,0, 1]\n",
    "filtered_result = filter (lambda x: x > 4, sequences)\n",
    "print(list(filtered_result))"
   ]
  },
  {
   "cell_type": "code",
   "execution_count": 32,
   "id": "52b0bcfe",
   "metadata": {},
   "outputs": [
    {
     "name": "stdout",
     "output_type": "stream",
     "text": [
      "[0, 2, 4, 6, 8, 10, 12, 14, 16, 18]\n"
     ]
    }
   ],
   "source": [
    "squares = []\n",
    "for x in range(10):\n",
    "    squares.append(x*2)\n",
    "print(squares)"
   ]
  },
  {
   "cell_type": "code",
   "execution_count": 37,
   "id": "dfdb2b69",
   "metadata": {},
   "outputs": [
    {
     "name": "stdout",
     "output_type": "stream",
     "text": [
      "[0, 1, 2, 3, 4, 5, 6, 7, 8, 9]\n"
     ]
    }
   ],
   "source": [
    "squaress=[]\n",
    "for x in range(10):\n",
    "    squaress.append(x)\n",
    "print(squaress)"
   ]
  },
  {
   "cell_type": "code",
   "execution_count": 43,
   "id": "f5aba9a1",
   "metadata": {},
   "outputs": [
    {
     "name": "stdout",
     "output_type": "stream",
     "text": [
      "[0, 1, 16, 81, 256, 625, 1296, 2401, 4096, 6561]\n"
     ]
    }
   ],
   "source": [
    "squaresesr=[]\n",
    "for x in range(10):\n",
    "    squaresesr.append(x**4)\n",
    "print(squaresesr)"
   ]
  },
  {
   "cell_type": "code",
   "execution_count": 47,
   "id": "5f8ab5d6",
   "metadata": {},
   "outputs": [
    {
     "name": "stdout",
     "output_type": "stream",
     "text": [
      "x= 10\n",
      "y= 60\n"
     ]
    },
    {
     "data": {
      "text/plain": [
       "70"
      ]
     },
     "execution_count": 47,
     "metadata": {},
     "output_type": "execute_result"
    }
   ],
   "source": [
    "#Given two integer numbers return their product only if the product is equal to or lower than 1000, else return their sum.\n",
    "\n",
    "\n",
    "def conditionchecker(x,y):\n",
    "    print(\"x=\",x)\n",
    "    print(\"y=\",y)\n",
    "    product=x*y\n",
    "    if(product>=1000):\n",
    "        return product\n",
    "    else:\n",
    "        return(x+y)\n",
    "    \n",
    "conditionchecker(10,60)    "
   ]
  },
  {
   "cell_type": "code",
   "execution_count": 64,
   "id": "f9a1ed5b",
   "metadata": {},
   "outputs": [
    {
     "data": {
      "text/plain": [
       "'true'"
      ]
     },
     "execution_count": 64,
     "metadata": {},
     "output_type": "execute_result"
    }
   ],
   "source": [
    "# Check if the first and last number of a list is the same.\n",
    "#Write a function to return True if the first and last number of a given list is same. If numbers are different then return False.\n",
    "\n",
    "\n",
    "def first_last(list1):\n",
    "    x=list1[0]\n",
    "    y=list1[-1]\n",
    "    if x==y:\n",
    "        return \"true\"\n",
    "    else:\n",
    "        return \"false\"\n",
    "    \n",
    "x = [10, 20, 30, 40, 10]\n",
    "first_last(x)"
   ]
  }
 ],
 "metadata": {
  "kernelspec": {
   "display_name": "Python 3 (ipykernel)",
   "language": "python",
   "name": "python3"
  },
  "language_info": {
   "codemirror_mode": {
    "name": "ipython",
    "version": 3
   },
   "file_extension": ".py",
   "mimetype": "text/x-python",
   "name": "python",
   "nbconvert_exporter": "python",
   "pygments_lexer": "ipython3",
   "version": "3.9.12"
  }
 },
 "nbformat": 4,
 "nbformat_minor": 5
}
