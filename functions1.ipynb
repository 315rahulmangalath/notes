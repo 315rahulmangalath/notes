{
 "cells": [
  {
   "cell_type": "code",
   "execution_count": 1,
   "id": "9263894f",
   "metadata": {},
   "outputs": [
    {
     "ename": "NameError",
     "evalue": "name 'st' is not defined",
     "output_type": "error",
     "traceback": [
      "\u001b[1;31m---------------------------------------------------------------------------\u001b[0m",
      "\u001b[1;31mNameError\u001b[0m                                 Traceback (most recent call last)",
      "Input \u001b[1;32mIn [1]\u001b[0m, in \u001b[0;36m<cell line: 6>\u001b[1;34m()\u001b[0m\n\u001b[0;32m      4\u001b[0m     \u001b[38;5;28;01melse\u001b[39;00m:\n\u001b[0;32m      5\u001b[0m         st\u001b[38;5;241m=\u001b[39m \u001b[38;5;124m\"\u001b[39m\u001b[38;5;124mx is greater than y\u001b[39m\u001b[38;5;124m\"\u001b[39m\n\u001b[1;32m----> 6\u001b[0m \u001b[38;5;28mprint\u001b[39m (\u001b[43mst\u001b[49m)\n\u001b[0;32m      8\u001b[0m fnmain(\u001b[38;5;241m8\u001b[39m,\u001b[38;5;241m4\u001b[39m)\n",
      "\u001b[1;31mNameError\u001b[0m: name 'st' is not defined"
     ]
    }
   ],
   "source": [
    "def fnmain(x,y):\n",
    "    if(x < y):\n",
    "        st= \"x is less than y\"\n",
    "    else:\n",
    "        st= \"x is greater than y\"\n",
    "print (st)\n",
    "\n",
    "fnmain(8,4)"
   ]
  },
  {
   "cell_type": "code",
   "execution_count": 4,
   "id": "611b8dcb",
   "metadata": {},
   "outputs": [
    {
     "name": "stdout",
     "output_type": "stream",
     "text": [
      "48\n"
     ]
    }
   ],
   "source": [
    "nos=[6,5,4,6,6,4,8,9]\n",
    "s=0\n",
    "for i in nos:\n",
    "    s=s+i\n",
    "    i=i+1\n",
    "print(s)"
   ]
  },
  {
   "cell_type": "code",
   "execution_count": 5,
   "id": "5e309421",
   "metadata": {},
   "outputs": [
    {
     "name": "stdout",
     "output_type": "stream",
     "text": [
      "i like devices lap\n",
      "i like devices mob\n",
      "i like devices rad\n",
      "i like devices tv\n"
     ]
    }
   ],
   "source": [
    "d=['lap','mob','rad','tv']\n",
    "for i in range(len(d)):\n",
    "    print(\"i like devices\",d[i])\n",
    "    i=i+1\n"
   ]
  },
  {
   "cell_type": "code",
   "execution_count": 21,
   "id": "ac4382a3",
   "metadata": {},
   "outputs": [
    {
     "name": "stdout",
     "output_type": "stream",
     "text": [
      "10\n",
      "20\n",
      "30\n"
     ]
    }
   ],
   "source": [
    "for val in [10,20,30,40,50,60]:\n",
    "    if (val>30):\n",
    "        continue\n",
    "    else:\n",
    "        print(val)\n",
    "    \n"
   ]
  },
  {
   "cell_type": "markdown",
   "id": "c784ecc3",
   "metadata": {},
   "source": [
    "# functions"
   ]
  },
  {
   "cell_type": "code",
   "execution_count": 28,
   "id": "bdf2b241",
   "metadata": {},
   "outputs": [
    {
     "name": "stdout",
     "output_type": "stream",
     "text": [
      "pls enter an integer  -ram\n",
      "/n looks like u entered wrong input\n",
      "finally created $\n",
      "pls enter an integer  -45\n",
      "yup its an int\n",
      "finally created $\n"
     ]
    }
   ],
   "source": [
    "def askint():\n",
    "    while True:\n",
    "        try:\n",
    "            val=int(input(\"pls enter an integer  -\"))\n",
    "        except:\n",
    "            print(\"/n looks like u entered wrong input\")\n",
    "            continue\n",
    "        else:\n",
    "            print(\"yup its an int\")\n",
    "            break\n",
    "            \n",
    "        finally:\n",
    "            print(\"finally created $\")\n",
    "askint()"
   ]
  },
  {
   "cell_type": "code",
   "execution_count": 25,
   "id": "76e93a03",
   "metadata": {},
   "outputs": [
    {
     "name": "stdout",
     "output_type": "stream",
     "text": [
      "10\n",
      "20\n",
      "30\n"
     ]
    }
   ],
   "source": [
    "for val in [10,20,30,40,50,60]:\n",
    "    if (val>30):\n",
    "        continue\n",
    "    else:\n",
    "        print(val)\n",
    "        "
   ]
  },
  {
   "cell_type": "code",
   "execution_count": 27,
   "id": "edcbc4f2",
   "metadata": {},
   "outputs": [
    {
     "name": "stdout",
     "output_type": "stream",
     "text": [
      "enter name of user  ram\n",
      "ram\n"
     ]
    }
   ],
   "source": [
    "name=input(\"enter name of user  \")\n",
    "if name.isalpha():\n",
    "    print(name)\n",
    "else:\n",
    "    print(\"\\n enter a proper name\")"
   ]
  }
 ],
 "metadata": {
  "kernelspec": {
   "display_name": "Python 3 (ipykernel)",
   "language": "python",
   "name": "python3"
  },
  "language_info": {
   "codemirror_mode": {
    "name": "ipython",
    "version": 3
   },
   "file_extension": ".py",
   "mimetype": "text/x-python",
   "name": "python",
   "nbconvert_exporter": "python",
   "pygments_lexer": "ipython3",
   "version": "3.9.12"
  }
 },
 "nbformat": 4,
 "nbformat_minor": 5
}
