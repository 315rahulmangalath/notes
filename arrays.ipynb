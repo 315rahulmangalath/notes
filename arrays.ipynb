{
 "cells": [
  {
   "cell_type": "code",
   "execution_count": 4,
   "id": "01f8d883",
   "metadata": {},
   "outputs": [
    {
     "data": {
      "text/plain": [
       "7"
      ]
     },
     "execution_count": 4,
     "metadata": {},
     "output_type": "execute_result"
    }
   ],
   "source": [
    "def fnmain():\n",
    "    x,y =8,7\n",
    "    if(x < y):\n",
    "        return x\n",
    "    else:\n",
    "        return y\n",
    "\n",
    "fnmain()"
   ]
  },
  {
   "cell_type": "code",
   "execution_count": 9,
   "id": "a524e555",
   "metadata": {},
   "outputs": [
    {
     "name": "stdout",
     "output_type": "stream",
     "text": [
      "10\n",
      "20\n",
      "25\n"
     ]
    }
   ],
   "source": [
    "for val in [10,20,25,45,60] :\n",
    "    if val>25:\n",
    "        break\n",
    "    print(val)\n"
   ]
  },
  {
   "cell_type": "code",
   "execution_count": 12,
   "id": "14e6f630",
   "metadata": {},
   "outputs": [
    {
     "data": {
      "text/plain": [
       "4.0"
      ]
     },
     "execution_count": 12,
     "metadata": {},
     "output_type": "execute_result"
    }
   ],
   "source": [
    "###numpy\n",
    "import numpy as np\n",
    "np.sqrt(16)"
   ]
  },
  {
   "cell_type": "code",
   "execution_count": 16,
   "id": "3757bfd5",
   "metadata": {},
   "outputs": [
    {
     "data": {
      "text/plain": [
       "16.0"
      ]
     },
     "execution_count": 16,
     "metadata": {},
     "output_type": "execute_result"
    }
   ],
   "source": [
    "#ceil fn -next whole no \n",
    "np.ceil(15.17)"
   ]
  },
  {
   "cell_type": "code",
   "execution_count": 18,
   "id": "cf78b90b",
   "metadata": {},
   "outputs": [
    {
     "data": {
      "text/plain": [
       "array([5, 7, 8])"
      ]
     },
     "execution_count": 18,
     "metadata": {},
     "output_type": "execute_result"
    }
   ],
   "source": [
    "np.array([5,7,8])"
   ]
  },
  {
   "cell_type": "code",
   "execution_count": 19,
   "id": "e346d950",
   "metadata": {},
   "outputs": [
    {
     "data": {
      "text/plain": [
       "7"
      ]
     },
     "execution_count": 19,
     "metadata": {},
     "output_type": "execute_result"
    }
   ],
   "source": [
    "#to get the total no of elements in the list\n",
    "mat=np.array([1,4,4,7,9,16,8])\n",
    "mat.size"
   ]
  },
  {
   "cell_type": "code",
   "execution_count": 22,
   "id": "921cb978",
   "metadata": {},
   "outputs": [
    {
     "data": {
      "text/plain": [
       "(7,)"
      ]
     },
     "execution_count": 22,
     "metadata": {},
     "output_type": "execute_result"
    }
   ],
   "source": [
    "#to get the no of rows and col -shape fn\n",
    "mat.shape"
   ]
  },
  {
   "cell_type": "code",
   "execution_count": 26,
   "id": "d2a01925",
   "metadata": {},
   "outputs": [
    {
     "data": {
      "text/plain": [
       "array([ 2,  4,  6,  8, 10])"
      ]
     },
     "execution_count": 26,
     "metadata": {},
     "output_type": "execute_result"
    }
   ],
   "source": [
    "#arange fn\n",
    "#range([start,] stop[, step,], dtype=None, *, like=None)\n",
    "\n",
    "a=np.arange(2,12,2)\n",
    "a"
   ]
  },
  {
   "cell_type": "code",
   "execution_count": 33,
   "id": "81ca892c",
   "metadata": {},
   "outputs": [
    {
     "data": {
      "text/plain": [
       "array([ 2,  4,  6,  8, 10])"
      ]
     },
     "execution_count": 33,
     "metadata": {},
     "output_type": "execute_result"
    }
   ],
   "source": [
    "#reversing the array\n",
    "a[2:12:-2]\n",
    "a"
   ]
  },
  {
   "cell_type": "code",
   "execution_count": 39,
   "id": "cf50cf14",
   "metadata": {},
   "outputs": [
    {
     "data": {
      "text/plain": [
       "array([10., 12., 14., 16., 18., 20., 22., 24., 26., 28., 30., 32., 34.,\n",
       "       36., 38., 40.])"
      ]
     },
     "execution_count": 39,
     "metadata": {},
     "output_type": "execute_result"
    }
   ],
   "source": [
    "#linearly spaced nos \n",
    "#Linspace(start,stop,no of elements)\n",
    "a=np.linspace(10,40,16)\n",
    "a"
   ]
  },
  {
   "cell_type": "code",
   "execution_count": 44,
   "id": "bd9a9014",
   "metadata": {},
   "outputs": [
    {
     "name": "stdout",
     "output_type": "stream",
     "text": [
      "[[0. 0. 0.]\n",
      " [0. 0. 0.]\n",
      " [0. 0. 0.]]\n"
     ]
    }
   ],
   "source": [
    "#matrix with zeroes\n",
    "print(np.zeros((3,3)))"
   ]
  },
  {
   "cell_type": "code",
   "execution_count": 48,
   "id": "884800ff",
   "metadata": {},
   "outputs": [
    {
     "name": "stdout",
     "output_type": "stream",
     "text": [
      "[[1. 1. 1. 1. 1. 1. 1. 1.]\n",
      " [1. 1. 1. 1. 1. 1. 1. 1.]\n",
      " [1. 1. 1. 1. 1. 1. 1. 1.]\n",
      " [1. 1. 1. 1. 1. 1. 1. 1.]\n",
      " [1. 1. 1. 1. 1. 1. 1. 1.]]\n"
     ]
    }
   ],
   "source": [
    "print(np.ones((5,8)))"
   ]
  },
  {
   "cell_type": "code",
   "execution_count": null,
   "id": "0579608f",
   "metadata": {},
   "outputs": [],
   "source": []
  }
 ],
 "metadata": {
  "kernelspec": {
   "display_name": "Python 3 (ipykernel)",
   "language": "python",
   "name": "python3"
  },
  "language_info": {
   "codemirror_mode": {
    "name": "ipython",
    "version": 3
   },
   "file_extension": ".py",
   "mimetype": "text/x-python",
   "name": "python",
   "nbconvert_exporter": "python",
   "pygments_lexer": "ipython3",
   "version": "3.9.12"
  }
 },
 "nbformat": 4,
 "nbformat_minor": 5
}
