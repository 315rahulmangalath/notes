{
 "cells": [
  {
   "cell_type": "code",
   "execution_count": 1,
   "id": "7c7ac3dd",
   "metadata": {},
   "outputs": [
    {
     "data": {
      "text/plain": [
       "12"
      ]
     },
     "execution_count": 1,
     "metadata": {},
     "output_type": "execute_result"
    }
   ],
   "source": [
    "8+4"
   ]
  },
  {
   "cell_type": "code",
   "execution_count": 2,
   "id": "a536342c",
   "metadata": {},
   "outputs": [
    {
     "data": {
      "text/plain": [
       "5.0"
      ]
     },
     "execution_count": 2,
     "metadata": {},
     "output_type": "execute_result"
    }
   ],
   "source": [
    "(50 - 5*6) / 4"
   ]
  },
  {
   "cell_type": "code",
   "execution_count": 4,
   "id": "149b1d89",
   "metadata": {},
   "outputs": [
    {
     "name": "stdout",
     "output_type": "stream",
     "text": [
      "Hello World of Python\n"
     ]
    }
   ],
   "source": [
    "#lets begin\n",
    "greeting = \"Hello World of Python\"\n",
    "print(greeting) "
   ]
  },
  {
   "cell_type": "code",
   "execution_count": 10,
   "id": "141fec15",
   "metadata": {},
   "outputs": [
    {
     "name": "stdout",
     "output_type": "stream",
     "text": [
      "1.6\n"
     ]
    }
   ],
   "source": [
    "print(8 / 5)"
   ]
  },
  {
   "cell_type": "code",
   "execution_count": 11,
   "id": "af47a677",
   "metadata": {},
   "outputs": [
    {
     "data": {
      "text/plain": [
       "2"
      ]
     },
     "execution_count": 11,
     "metadata": {},
     "output_type": "execute_result"
    }
   ],
   "source": [
    "17 % 3"
   ]
  },
  {
   "cell_type": "code",
   "execution_count": 12,
   "id": "77e1c19f",
   "metadata": {},
   "outputs": [
    {
     "data": {
      "text/plain": [
       "5"
      ]
     },
     "execution_count": 12,
     "metadata": {},
     "output_type": "execute_result"
    }
   ],
   "source": [
    "17 // 3 "
   ]
  },
  {
   "cell_type": "code",
   "execution_count": 54,
   "id": "e44ad65f",
   "metadata": {},
   "outputs": [
    {
     "data": {
      "text/plain": [
       "8"
      ]
     },
     "execution_count": 54,
     "metadata": {},
     "output_type": "execute_result"
    }
   ],
   "source": [
    "#finding the cube\n",
    "(2**3)"
   ]
  },
  {
   "cell_type": "code",
   "execution_count": 14,
   "id": "1bb71b91",
   "metadata": {},
   "outputs": [
    {
     "name": "stdout",
     "output_type": "stream",
     "text": [
      "The value of width= 20\n"
     ]
    }
   ],
   "source": [
    "width = 20\n",
    "height = 5 * 9\n",
    "print(\"The value of width=\",width) \n"
   ]
  },
  {
   "cell_type": "code",
   "execution_count": 15,
   "id": "2f838d09",
   "metadata": {},
   "outputs": [
    {
     "ename": "SyntaxError",
     "evalue": "EOL while scanning string literal (2824665502.py, line 1)",
     "output_type": "error",
     "traceback": [
      "\u001b[1;36m  Input \u001b[1;32mIn [15]\u001b[1;36m\u001b[0m\n\u001b[1;33m    print('The value of width is=\", width)\u001b[0m\n\u001b[1;37m                                           ^\u001b[0m\n\u001b[1;31mSyntaxError\u001b[0m\u001b[1;31m:\u001b[0m EOL while scanning string literal\n"
     ]
    }
   ],
   "source": [
    "print('The value of width is=\", width)    #use of single quotes"
   ]
  },
  {
   "cell_type": "code",
   "execution_count": 17,
   "id": "c90006b5",
   "metadata": {},
   "outputs": [
    {
     "name": "stdout",
     "output_type": "stream",
     "text": [
      "Value= 900\n"
     ]
    }
   ],
   "source": [
    "print(\"Value=\",width*height)"
   ]
  },
  {
   "cell_type": "code",
   "execution_count": 18,
   "id": "88b7d529",
   "metadata": {},
   "outputs": [
    {
     "name": "stdout",
     "output_type": "stream",
     "text": [
      "the height= 45\n"
     ]
    }
   ],
   "source": [
    "print(\"the height=\",height)"
   ]
  },
  {
   "cell_type": "code",
   "execution_count": 21,
   "id": "dc5da09e",
   "metadata": {},
   "outputs": [
    {
     "data": {
      "text/plain": [
       "'ElonMusk'"
      ]
     },
     "execution_count": 21,
     "metadata": {},
     "output_type": "execute_result"
    }
   ],
   "source": [
    "# String concatenation\n",
    "\"The \"+\"Sun\"\n",
    "\"The \"+\"Moon\"\n",
    "\"Planets\"+\" Universe\"\n",
    "\n",
    "string1 = \"Elon\"\n",
    "\n",
    "string2 = \"Musk\"\n",
    "magic_string = string1 + string2\n",
    "\n",
    "magic_string"
   ]
  },
  {
   "cell_type": "code",
   "execution_count": 28,
   "id": "be3582f6",
   "metadata": {},
   "outputs": [
    {
     "name": "stdout",
     "output_type": "stream",
     "text": [
      "ram menon\n"
     ]
    }
   ],
   "source": [
    "first_name=\"ram\"\n",
    "last_name=\"menon\"\n",
    "name=first_name+\" \"+last_name\n",
    "print(name)\n"
   ]
  },
  {
   "cell_type": "code",
   "execution_count": 31,
   "id": "58708f0f",
   "metadata": {},
   "outputs": [
    {
     "name": "stdout",
     "output_type": "stream",
     "text": [
      "enyter ur  name rahul\n",
      "You said: rahul\n"
     ]
    }
   ],
   "source": [
    "user_input=input(\"enyter ur  name \")\n",
    "print(\"You said: \" + user_input)\n",
    "\n"
   ]
  },
  {
   "cell_type": "code",
   "execution_count": 32,
   "id": "58b82bb0",
   "metadata": {},
   "outputs": [
    {
     "name": "stdout",
     "output_type": "stream",
     "text": [
      "Enter a number to be doubled: 8\n",
      "16.0\n"
     ]
    }
   ],
   "source": [
    "num = input(\"Enter a number to be doubled: \")\n",
    "\n",
    "doubled_num = float(num)*2\n",
    "\n",
    "print(doubled_num)"
   ]
  },
  {
   "cell_type": "code",
   "execution_count": 36,
   "id": "d02a4944",
   "metadata": {},
   "outputs": [
    {
     "name": "stdout",
     "output_type": "stream",
     "text": [
      "enter 1 no2\n",
      "enter 2 no4\n",
      "prod= 8.0\n"
     ]
    }
   ],
   "source": [
    "ip1=float(input(\"enter 1 no\"))\n",
    "ip2=float(input(\"enter 2 no\"))\n",
    "print(\"prod=\", (ip1*ip2))"
   ]
  },
  {
   "cell_type": "code",
   "execution_count": 37,
   "id": "7c7e9fc1",
   "metadata": {},
   "outputs": [
    {
     "name": "stdout",
     "output_type": "stream",
     "text": [
      "length of string= 9\n"
     ]
    }
   ],
   "source": [
    "# Find length\n",
    "str1=\"how is it\"\n",
    "print(\"length of string=\",len(str1))"
   ]
  },
  {
   "cell_type": "code",
   "execution_count": 42,
   "id": "87393225",
   "metadata": {},
   "outputs": [
    {
     "data": {
      "text/plain": [
       "1"
      ]
     },
     "execution_count": 42,
     "metadata": {},
     "output_type": "execute_result"
    }
   ],
   "source": [
    "#list\n",
    "squares = [1, 4, 9, 16, 25]\n",
    "squares[0] "
   ]
  },
  {
   "cell_type": "code",
   "execution_count": 39,
   "id": "0c723f72",
   "metadata": {},
   "outputs": [
    {
     "data": {
      "text/plain": [
       "16"
      ]
     },
     "execution_count": 39,
     "metadata": {},
     "output_type": "execute_result"
    }
   ],
   "source": [
    "squares[-2]"
   ]
  },
  {
   "cell_type": "code",
   "execution_count": 40,
   "id": "e3fe9068",
   "metadata": {},
   "outputs": [
    {
     "data": {
      "text/plain": [
       "[1, 4, 9, 16, 25]"
      ]
     },
     "execution_count": 40,
     "metadata": {},
     "output_type": "execute_result"
    }
   ],
   "source": [
    "#getting entire datas\n",
    "squares[:]"
   ]
  },
  {
   "cell_type": "code",
   "execution_count": 44,
   "id": "5b92fd73",
   "metadata": {},
   "outputs": [
    {
     "data": {
      "text/plain": [
       "[1, 4, 9, 16, 25, 36, 49, 64, 81, 100]"
      ]
     },
     "execution_count": 44,
     "metadata": {},
     "output_type": "execute_result"
    }
   ],
   "source": [
    "squares + [36, 49, 64, 81, 100]\n"
   ]
  },
  {
   "cell_type": "code",
   "execution_count": 46,
   "id": "93a0d331",
   "metadata": {},
   "outputs": [
    {
     "name": "stdout",
     "output_type": "stream",
     "text": [
      "[1, 4, 9, 16, 25, 36, 49, 64, 81, 100]\n"
     ]
    }
   ],
   "source": [
    "num=squares + [36, 49, 64, 81, 100]\n",
    "print(num)"
   ]
  },
  {
   "cell_type": "code",
   "execution_count": 51,
   "id": "bc0c0cac",
   "metadata": {},
   "outputs": [
    {
     "data": {
      "text/plain": [
       "[1, 4, 9, 16, 25, 4, 4, 14]"
      ]
     },
     "execution_count": 51,
     "metadata": {},
     "output_type": "execute_result"
    }
   ],
   "source": [
    "#adding dat at the last position\n",
    "squares.append(14)\n",
    "squares"
   ]
  },
  {
   "cell_type": "code",
   "execution_count": 57,
   "id": "cd12dcbc",
   "metadata": {},
   "outputs": [
    {
     "data": {
      "text/plain": [
       "[1, 4, 9, 16, 25, 4, 4, 14, 343]"
      ]
     },
     "execution_count": 57,
     "metadata": {},
     "output_type": "execute_result"
    }
   ],
   "source": [
    "# adding the cube of 7\n",
    "squares.append(7**3)\n",
    "squares"
   ]
  },
  {
   "cell_type": "code",
   "execution_count": 60,
   "id": "39206e98",
   "metadata": {},
   "outputs": [
    {
     "data": {
      "text/plain": [
       "2"
      ]
     },
     "execution_count": 60,
     "metadata": {},
     "output_type": "execute_result"
    }
   ],
   "source": [
    "fruits = ['orange', 'apple', 'pear', 'banana', 'kiwi', 'apple', 'banana']\n",
    "fruits.count(\"apple\")"
   ]
  },
  {
   "cell_type": "code",
   "execution_count": 61,
   "id": "50376096",
   "metadata": {},
   "outputs": [
    {
     "data": {
      "text/plain": [
       "3"
      ]
     },
     "execution_count": 61,
     "metadata": {},
     "output_type": "execute_result"
    }
   ],
   "source": [
    "#loc the initialindex position of element in list\n",
    "fruits.index('banana')\n"
   ]
  },
  {
   "cell_type": "code",
   "execution_count": 65,
   "id": "1a4d0d0e",
   "metadata": {},
   "outputs": [
    {
     "data": {
      "text/plain": [
       "6"
      ]
     },
     "execution_count": 65,
     "metadata": {},
     "output_type": "execute_result"
    }
   ],
   "source": [
    "# Find next \"banana\" from starting index 4\n",
    "fruits.index('banana', 4) "
   ]
  },
  {
   "cell_type": "code",
   "execution_count": 70,
   "id": "4464bfd7",
   "metadata": {},
   "outputs": [
    {
     "data": {
      "text/plain": [
       "['banana', 'apple', 'kiwi', 'banana', 'pear', 'apple', 'orange']"
      ]
     },
     "execution_count": 70,
     "metadata": {},
     "output_type": "execute_result"
    }
   ],
   "source": [
    "#reverse fn\n",
    "fruits.reverse()\n",
    "fruits"
   ]
  },
  {
   "cell_type": "code",
   "execution_count": 81,
   "id": "6ce05611",
   "metadata": {},
   "outputs": [
    {
     "name": "stdout",
     "output_type": "stream",
     "text": [
      "['apple', 'apple', 'banana', 'banana', 'grape', 'grape', 'grape', 'grape', 'grape', 'kiwi']\n"
     ]
    }
   ],
   "source": [
    "#using sorts\n",
    "fruits.append('grape')\n",
    "fruits\n",
    "fruits.sort()\n",
    "print(fruits)"
   ]
  },
  {
   "cell_type": "code",
   "execution_count": 82,
   "id": "87acd504",
   "metadata": {},
   "outputs": [
    {
     "data": {
      "text/plain": [
       "['apple',\n",
       " 'apple',\n",
       " 'banana',\n",
       " 'banana',\n",
       " 'grape',\n",
       " 'grape',\n",
       " 'grape',\n",
       " 'grape',\n",
       " 'grape']"
      ]
     },
     "execution_count": 82,
     "metadata": {},
     "output_type": "execute_result"
    }
   ],
   "source": [
    "#pop-to eliminate the lat element from list\n",
    "fruits.pop()\n",
    "fruits"
   ]
  },
  {
   "cell_type": "code",
   "execution_count": 84,
   "id": "1e30a67f",
   "metadata": {},
   "outputs": [
    {
     "data": {
      "text/plain": [
       "[500, 400, 300, 200, 100]"
      ]
     },
     "execution_count": 84,
     "metadata": {},
     "output_type": "execute_result"
    }
   ],
   "source": [
    "list1 = [100, 200, 300, 400, 500]\n",
    "list1.reverse()\n",
    "list1"
   ]
  },
  {
   "cell_type": "code",
   "execution_count": 93,
   "id": "7916b209",
   "metadata": {},
   "outputs": [
    {
     "data": {
      "text/plain": [
       "{'username': 'XYZ',\n",
       " 'email': 'xyz@gmail.com',\n",
       " 'location': 'Mumbai',\n",
       " 'country': 'nice'}"
      ]
     },
     "execution_count": 93,
     "metadata": {},
     "output_type": "execute_result"
    }
   ],
   "source": [
    "#dictionary\n",
    "my_dict = {'username': \"XYZ\", \"email\": \"xyz@gmail.com\", \"location\":\"Mumbai\"}\n",
    "my_dict[\"country\"]=\"nice\"\n",
    "my_dict"
   ]
  },
  {
   "cell_type": "code",
   "execution_count": 94,
   "id": "cbe7f3fb",
   "metadata": {},
   "outputs": [
    {
     "data": {
      "text/plain": [
       "{'username': 'XYZ', 'email': 'xyz@gmail.com', 'country': 'nice'}"
      ]
     },
     "execution_count": 94,
     "metadata": {},
     "output_type": "execute_result"
    }
   ],
   "source": [
    "#to delete the key of location from dict\n",
    "del my_dict['location']\n",
    "my_dict"
   ]
  },
  {
   "cell_type": "code",
   "execution_count": 95,
   "id": "fddea1b1",
   "metadata": {},
   "outputs": [
    {
     "data": {
      "text/plain": [
       "'tesla'"
      ]
     },
     "execution_count": 95,
     "metadata": {},
     "output_type": "execute_result"
    }
   ],
   "source": [
    "#String finctions in python\n",
    "name = \"Tesla\"\n",
    "name.lower()"
   ]
  },
  {
   "cell_type": "code",
   "execution_count": 97,
   "id": "e47b1ff2",
   "metadata": {},
   "outputs": [
    {
     "data": {
      "text/plain": [
       "'TESLA'"
      ]
     },
     "execution_count": 97,
     "metadata": {},
     "output_type": "execute_result"
    }
   ],
   "source": [
    "#capitalise\n",
    "name.upper()"
   ]
  },
  {
   "cell_type": "code",
   "execution_count": 99,
   "id": "de4fd9f4",
   "metadata": {},
   "outputs": [
    {
     "data": {
      "text/plain": [
       "'Tesla'"
      ]
     },
     "execution_count": 99,
     "metadata": {},
     "output_type": "execute_result"
    }
   ],
   "source": [
    "name.capitalize()\n"
   ]
  },
  {
   "cell_type": "code",
   "execution_count": 100,
   "id": "41681084",
   "metadata": {},
   "outputs": [
    {
     "data": {
      "text/plain": [
       "True"
      ]
     },
     "execution_count": 100,
     "metadata": {},
     "output_type": "execute_result"
    }
   ],
   "source": [
    "#to check if it is alphabet or not\n",
    "name.isalpha()"
   ]
  },
  {
   "cell_type": "code",
   "execution_count": 105,
   "id": "0e039fa1",
   "metadata": {},
   "outputs": [
    {
     "data": {
      "text/plain": [
       "True"
      ]
     },
     "execution_count": 105,
     "metadata": {},
     "output_type": "execute_result"
    }
   ],
   "source": [
    "starship = \"Enterprise\"\n",
    "starship.startswith(\"n\")\n",
    "\n",
    "\n"
   ]
  },
  {
   "cell_type": "code",
   "execution_count": 103,
   "id": "93668ce7",
   "metadata": {},
   "outputs": [
    {
     "data": {
      "text/plain": [
       "True"
      ]
     },
     "execution_count": 103,
     "metadata": {},
     "output_type": "execute_result"
    }
   ],
   "source": [
    "starship.endswith(\"rise\")"
   ]
  },
  {
   "cell_type": "code",
   "execution_count": 106,
   "id": "27e62998",
   "metadata": {},
   "outputs": [
    {
     "name": "stdout",
     "output_type": "stream",
     "text": [
      "GoodBye Sir \n"
     ]
    }
   ],
   "source": [
    "#replace part of the srting   \"welcome\" with \"GoodBye\"\n",
    "string = \"Welcome Sir \"\n",
    "print(string.replace(\"Welcome\",\"GoodBye\"))\n"
   ]
  },
  {
   "cell_type": "code",
   "execution_count": 107,
   "id": "52b01ea6",
   "metadata": {},
   "outputs": [
    {
     "name": "stdout",
     "output_type": "stream",
     "text": [
      "I like apples\n"
     ]
    }
   ],
   "source": [
    "txt = \"I like bananas\"\n",
    "x = txt.replace(\"bananas\", \"apples\")\n",
    "print(x)"
   ]
  },
  {
   "cell_type": "code",
   "execution_count": 110,
   "id": "155c23d7",
   "metadata": {},
   "outputs": [
    {
     "data": {
      "text/plain": [
       "7"
      ]
     },
     "execution_count": 110,
     "metadata": {},
     "output_type": "execute_result"
    }
   ],
   "source": [
    "#to find the starting index nocof the finding string\n",
    "phrase = \"the surprise is in here somewhere\"\n",
    "phrase.find(\"prise\")"
   ]
  },
  {
   "cell_type": "code",
   "execution_count": 111,
   "id": "f924bdad",
   "metadata": {},
   "outputs": [
    {
     "name": "stdout",
     "output_type": "stream",
     "text": [
      "['Hello', 'World', 'DataTrained']\n"
     ]
    },
    {
     "data": {
      "text/plain": [
       "'Hello World DataTrained'"
      ]
     },
     "execution_count": 111,
     "metadata": {},
     "output_type": "execute_result"
    }
   ],
   "source": [
    "text = \"Hello World DataTrained\"\n",
    "print(text.split())\n",
    "text"
   ]
  },
  {
   "cell_type": "code",
   "execution_count": 2,
   "id": "0b5a10be",
   "metadata": {},
   "outputs": [
    {
     "name": "stdout",
     "output_type": "stream",
     "text": [
      "['HelloWorld', 'DataTrained']\n"
     ]
    }
   ],
   "source": [
    "text = \"HelloWorld,DataTrained\"\n",
    "print(text.split(\",\"))"
   ]
  },
  {
   "cell_type": "code",
   "execution_count": 3,
   "id": "9245022f",
   "metadata": {},
   "outputs": [
    {
     "name": "stdout",
     "output_type": "stream",
     "text": [
      "['Hello,World', 'DataTrained']\n"
     ]
    }
   ],
   "source": [
    "# Splits at ':'\n",
    "\n",
    "text = \"Hello,World:DataTrained\"\n",
    "print(text.split(\":\"))\n"
   ]
  },
  {
   "cell_type": "code",
   "execution_count": 4,
   "id": "8a2602bb",
   "metadata": {},
   "outputs": [
    {
     "ename": "AttributeError",
     "evalue": "'list' object has no attribute 'lower'",
     "output_type": "error",
     "traceback": [
      "\u001b[1;31m---------------------------------------------------------------------------\u001b[0m",
      "\u001b[1;31mAttributeError\u001b[0m                            Traceback (most recent call last)",
      "Input \u001b[1;32mIn [4]\u001b[0m, in \u001b[0;36m<cell line: 2>\u001b[1;34m()\u001b[0m\n\u001b[0;32m      1\u001b[0m how\u001b[38;5;241m=\u001b[39m[\u001b[38;5;124m\"\u001b[39m\u001b[38;5;124mAnimals\u001b[39m\u001b[38;5;124m\"\u001b[39m, \u001b[38;5;124m\"\u001b[39m\u001b[38;5;124mBadger\u001b[39m\u001b[38;5;124m\"\u001b[39m, \u001b[38;5;124m\"\u001b[39m\u001b[38;5;124mHoney Bee\u001b[39m\u001b[38;5;124m\"\u001b[39m, \u001b[38;5;124m\"\u001b[39m\u001b[38;5;124mHoney Badger\u001b[39m\u001b[38;5;124m\"\u001b[39m]\n\u001b[1;32m----> 2\u001b[0m \u001b[43mhow\u001b[49m\u001b[38;5;241;43m.\u001b[39;49m\u001b[43mlower\u001b[49m()\n\u001b[0;32m      3\u001b[0m how\n",
      "\u001b[1;31mAttributeError\u001b[0m: 'list' object has no attribute 'lower'"
     ]
    }
   ],
   "source": [
    "how=[\"Animals\", \"Badger\", \"Honey Bee\", \"Honey Badger\"]\n",
    "how.lower()\n",
    "how"
   ]
  },
  {
   "cell_type": "code",
   "execution_count": 121,
   "id": "021f27b0",
   "metadata": {},
   "outputs": [
    {
     "name": "stdout",
     "output_type": "stream",
     "text": [
      "False\n"
     ]
    }
   ],
   "source": [
    "string1 = \"Becomes\"\n",
    "\n",
    "string2 = \"becomes\"\n",
    "\n",
    "string3 = \"BEAR\"\n",
    "\n",
    "string4 = \" bEautiful\"\n",
    "print(string1.startswith(\"be\"))"
   ]
  },
  {
   "cell_type": "code",
   "execution_count": 122,
   "id": "7f2dc37e",
   "metadata": {},
   "outputs": [
    {
     "name": "stdout",
     "output_type": "stream",
     "text": [
      "True\n"
     ]
    }
   ],
   "source": [
    "print(string2.startswith(\"be\"))"
   ]
  },
  {
   "cell_type": "code",
   "execution_count": 127,
   "id": "cdcefe91",
   "metadata": {},
   "outputs": [
    {
     "name": "stdout",
     "output_type": "stream",
     "text": [
      "becomes Becomes\n"
     ]
    }
   ],
   "source": [
    "x=string1.lower()\n",
    "print(x,string1)"
   ]
  },
  {
   "cell_type": "code",
   "execution_count": 142,
   "id": "30e15afb",
   "metadata": {},
   "outputs": [
    {
     "name": "stdout",
     "output_type": "stream",
     "text": [
      "input a stringHOW\n",
      "how\n"
     ]
    }
   ],
   "source": [
    "# Write a program that takes input from the user and displays the\n",
    "#input in lowercase.\n",
    "\n",
    "Z=input(\"input a string\")\n",
    "print(Z.lower())"
   ]
  }
 ],
 "metadata": {
  "kernelspec": {
   "display_name": "Python 3 (ipykernel)",
   "language": "python",
   "name": "python3"
  },
  "language_info": {
   "codemirror_mode": {
    "name": "ipython",
    "version": 3
   },
   "file_extension": ".py",
   "mimetype": "text/x-python",
   "name": "python",
   "nbconvert_exporter": "python",
   "pygments_lexer": "ipython3",
   "version": "3.9.12"
  }
 },
 "nbformat": 4,
 "nbformat_minor": 5
}
